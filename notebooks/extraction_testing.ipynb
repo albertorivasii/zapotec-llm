{
 "cells": [
  {
   "cell_type": "markdown",
   "id": "8431e369",
   "metadata": {},
   "source": [
    "# Extraction Testing\n",
    "## Goals\n",
    "- Confirm pytesseract works"
   ]
  },
  {
   "cell_type": "code",
   "execution_count": 1,
   "id": "7b125fb2",
   "metadata": {},
   "outputs": [],
   "source": [
    "import pytesseract\n",
    "import pandas as pd\n",
    "from PIL import Image\n",
    "import os\n",
    "from pdf2image import convert_from_path\n",
    "\n",
    "os.chdir(r\"C:\\Users\\thesm\\Documents\\Personal Website\\zapotec-llm\")\n",
    "texts= [\"zav_Interlinear_texts_I.pdf\", \"zav_Interlinear_texts_II.pdf\", \"zav_Interlinear_texts_III.pdf\", \"zav_Interlinear_texts_IV.pdf\"]\n",
    "pytesseract.pytesseract.tesseract_cmd= r\"C:\\Program Files\\Tesseract-OCR\\tesseract.exe\""
   ]
  },
  {
   "cell_type": "markdown",
   "id": "89e041ae",
   "metadata": {},
   "source": [
    "# Convert PDF to PNG\n",
    "Only do this once."
   ]
  },
  {
   "cell_type": "code",
   "execution_count": 2,
   "id": "ec79baf2",
   "metadata": {},
   "outputs": [
    {
     "name": "stdout",
     "output_type": "stream",
     "text": [
      "Page 6 saved.\n"
     ]
    }
   ],
   "source": [
    "pages= convert_from_path(\"zav_Interlinear_texts_I.pdf\")\n",
    "\n",
    "image_path= f\"page_6\"\n",
    "pages[5].save(image_path, \"PNG\")\n",
    "print(\"Page 6 saved.\")"
   ]
  },
  {
   "cell_type": "code",
   "execution_count": 4,
   "id": "74e6fb49",
   "metadata": {},
   "outputs": [
    {
     "data": {
      "text/plain": [
       "\"HL2. WHEN THE SPANIARDS CAME\\n\\n13. Bens! gwza'azlaZe'e gwso'one' dios\\n\\nbedao! yej 13. bena' gw= zalazlaze' -e' gw= so'= on\\n\\nobject.of.worship rock 13. person C= like -3r C= PL= make\\n13. People who wanted made their gods that\\n\\nchega'aque' beno' gwse'ejni'alaze'e, na!\\n\\n-e' dios che -ga'ac -e' bena!' gw= se'= ejni'alaZe' -e' na! b=\\n\\n-3r god(S) POS -PL -3r person C= PL= worship -3r and C=\\n\\nthey worshipped, and\\n\\nboso'osi'te la to to sant chega'aque'ena'.\\noso'o= si! -e' la toj}to sant che -ga'ac -e' -e -na!\\nPL= give.name -3r POS/name each saint(S) POS -PL -3r -TR -DEM\\nthey gave names to each of their deities.\\n\\n14. Gwso'one' bedao' chega'aque' che yejw, nat\\n14. gw= so'= on -e! bedao! che -ga'ac -e' che yejw na!\\n14. C= PL= make -3r object.of.worship POS -PL -3r for rain and\\n14. They made their god of rain, and\\ngwso'one' che yela' mban chega'aque', na' gwso'one'\\n\\ngw= so'= on -e! che yele' m= ban ghe -ga'tac -e' na! gw= so'= on\\nC= PL= make -3r for NOM S= live POS -PL -3r and C= PL= make\\nand they made (one) for their life, and they made\\n\\ndios chega'aque' bene' gwso'olgiiize' cata' goc gwdila.\\n\\n-e' dios ghe -ga'tac -e' bena' gw= so'= olgiiiZ -e' cata' g= oc\\n-8r god(S) POS -PL -3r person C= PL= call.to -3r when C= be\\ntheir god whom they called on when there was war.\\n\\n15. Zan lao zan cue' bens! gwso'one'.\\ngwdile 15. zan lao zan cue! bene! gw= so'= on -e!\\nwar 15. many POS/face many type person C= PL= make -3r\\n15. They made many different gods.\\n\\n16. Na' gwse'ejni'alaZe'e bio' na‘ bgiiiz. 17. Binlo nitateacze!\\n16. na' gw= se'= ejni'alaza' -e' bio' na! bgiiiZ 17. binlo nita' -a\\n16. and C= PL= worship -3r moon and sun 17. well S/be -TR\\n16. And they worshipped the moon and sun. 17. They were happy\\n\\nzjono'e xneze cate'on bla'ac spafiol ca'.\\n\\n-cz -e! zja= n= oe! -e' x= nez -e cata! -a -n! b= latac\\n-INT -3r S/PL= S= give -3r POS= road -3i when -TR -DEM C= arrive/PL\\n(and) well established in their system when the Spaniards arrived.\\n\\n18. Na' chse'en que chse'enene' gwso'one' ca naqua\\nspafiol ca! 18. na‘ ch= se'= e'en|que;ch=se'=ene'e -ne! gw=\\nSpaniards(S) those 18. and H= PL= want.to.or.not -3r C=\\n\\n18. And want to or not, they did as those people\\n\""
      ]
     },
     "execution_count": 4,
     "metadata": {},
     "output_type": "execute_result"
    }
   ],
   "source": [
    "result= pytesseract.image_to_string(\"page_6.png\")\n",
    "\n",
    "result"
   ]
  },
  {
   "cell_type": "markdown",
   "id": "4b0dded8",
   "metadata": {},
   "source": []
  }
 ],
 "metadata": {
  "kernelspec": {
   "display_name": "zapotec",
   "language": "python",
   "name": "python3"
  },
  "language_info": {
   "codemirror_mode": {
    "name": "ipython",
    "version": 3
   },
   "file_extension": ".py",
   "mimetype": "text/x-python",
   "name": "python",
   "nbconvert_exporter": "python",
   "pygments_lexer": "ipython3",
   "version": "3.10.18"
  }
 },
 "nbformat": 4,
 "nbformat_minor": 5
}
